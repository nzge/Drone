{
 "cells": [
  {
   "cell_type": "code",
   "execution_count": null,
   "metadata": {},
   "outputs": [
    {
     "name": "stdout",
     "output_type": "stream",
     "text": [
      "Total weight:  0.39380000000000004 kg\n",
      "Total thrust:  1.9690000000000003 kg\n",
      "Thrust per motor:  0.9845000000000002 kg\n"
     ]
    },
    {
     "ename": "",
     "evalue": "",
     "output_type": "error",
     "traceback": [
      "\u001b[1;31mThe Kernel crashed while executing code in the current cell or a previous cell. \n",
      "\u001b[1;31mPlease review the code in the cell(s) to identify a possible cause of the failure. \n",
      "\u001b[1;31mClick <a href='https://aka.ms/vscodeJupyterKernelCrash'>here</a> for more info. \n",
      "\u001b[1;31mView Jupyter <a href='command:jupyter.viewOutput'>log</a> for further details."
     ]
    }
   ],
   "source": [
    "#in grams\n",
    "Lipo_weight = 200\n",
    "Motor_weight = 24\n",
    "Servo_weight = 15\n",
    "ESC_weight = 10\n",
    "Teensy_weight = 2.8\n",
    "RaspberryPi_weight = 3\n",
    "Frame_weight = 100\n",
    "GPS_weight = 10\n",
    "\n",
    "thrust_to_weight_ratio = 5\n",
    "motor_count = 2\n",
    "servo_count = 2\n",
    "\n",
    "total_weight = (Lipo_weight + ESC_weight + Motor_weight * motor_count + Servo_weight * servo_count + \n",
    "                Teensy_weight + RaspberryPi_weight + Frame_weight + GPS_weight) / 1000\n",
    "thrust = total_weight * thrust_to_weight_ratio\n",
    "thrust_per_motor = thrust / motor_count\n",
    "\n",
    "print(\"Total weight: \", total_weight, \"kg\")\n",
    "print(\"Total thrust: \", thrust, \"kg\")\n",
    "print(\"Thrust per motor: \", thrust_per_motor, \"kg\")"
   ]
  },
  {
   "cell_type": "code",
   "execution_count": null,
   "metadata": {},
   "outputs": [],
   "source": [
    "\n",
    "\n"
   ]
  }
 ],
 "metadata": {
  "kernelspec": {
   "display_name": "Python 3",
   "language": "python",
   "name": "python3"
  },
  "language_info": {
   "codemirror_mode": {
    "name": "ipython",
    "version": 3
   },
   "file_extension": ".py",
   "mimetype": "text/x-python",
   "name": "python",
   "nbconvert_exporter": "python",
   "pygments_lexer": "ipython3",
   "version": "3.13.2"
  }
 },
 "nbformat": 4,
 "nbformat_minor": 2
}
